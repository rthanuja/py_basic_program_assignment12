{
 "cells": [
  {
   "cell_type": "code",
   "execution_count": 1,
   "id": "d625f019",
   "metadata": {},
   "outputs": [
    {
     "name": "stdout",
     "output_type": "stream",
     "text": [
      "[1, 3, 4, 5, 6, 'data', 8, 9, (3+4j)]\n"
     ]
    }
   ],
   "source": [
    "#1. Write a Python program to Extract Unique values dictionary values?\n",
    "d={\"first\":[1,5,9,6],\"second\":{8,9,4,5,6},\"third\":9,\"fourth\":(3,4,5,1),\"fifth\":3+4j,\"sixth\":\"data\"}\n",
    "l=[]\n",
    "for i in d.values():\n",
    "    if type(i) in [list,set,tuple]:\n",
    "        l.extend(i)\n",
    "    else:\n",
    "        l.append(i)\n",
    "\n",
    "print(list(set(l)))\n",
    "    "
   ]
  },
  {
   "cell_type": "code",
   "execution_count": 2,
   "id": "b6f39bee",
   "metadata": {},
   "outputs": [
    {
     "name": "stdout",
     "output_type": "stream",
     "text": [
      "330\n"
     ]
    }
   ],
   "source": [
    "#2. Write a Python program to find the sum of all items in a dictionary?\n",
    "d={\"first\":100,\"second\":12,\"third\":18,\"fourth\":200}\n",
    "print(sum(d.values()))"
   ]
  },
  {
   "cell_type": "code",
   "execution_count": 3,
   "id": "2e676a81",
   "metadata": {},
   "outputs": [
    {
     "name": "stdout",
     "output_type": "stream",
     "text": [
      "{'c': 3, 'd': 4, 'a': 1, 'b': 2}\n"
     ]
    }
   ],
   "source": [
    "#3. Write a Python program to Merging two Dictionaries?\n",
    "d1={\"a\":1,\"b\":2}\n",
    "d2={\"c\":3,\"d\":4}\n",
    "d2.update(d1)\n",
    "print(d2)"
   ]
  },
  {
   "cell_type": "code",
   "execution_count": 4,
   "id": "b3f6014b",
   "metadata": {},
   "outputs": [
    {
     "name": "stdout",
     "output_type": "stream",
     "text": [
      "original dictionary is {'letters': ['a', 'b', 'c', 'd', 'e'], 'numbers': [1, 2, 3, 4, 5]}\n",
      "flat dictionary is {'a': 1, 'b': 2, 'c': 3, 'd': 4, 'e': 5}\n"
     ]
    }
   ],
   "source": [
    "#4. Write a Python program to convert key-values list to flat dictionary?\n",
    "d={'letters':['a','b','c','d','e'],\"numbers\":[1,2,3,4,5]}\n",
    "flat_d = dict(zip(d['letters'],d['numbers']))\n",
    "print(f\"original dictionary is {d}\")\n",
    "print(f\"flat dictionary is {flat_d}\")"
   ]
  },
  {
   "cell_type": "code",
   "execution_count": 5,
   "id": "30121ccd",
   "metadata": {},
   "outputs": [
    {
     "name": "stdout",
     "output_type": "stream",
     "text": [
      "OrderedDict([('d', 4), ('a', 1), ('b', 2), ('c', 3)])\n"
     ]
    }
   ],
   "source": [
    "#5. Write a Python program to insertion at the beginning in OrderedDict?\n",
    "from collections import OrderedDict\n",
    "ordered_d =OrderedDict({'a':1,\"b\":2,\"c\":3})\n",
    "ordered_d.update({\"d\":4})\n",
    "ordered_d.move_to_end(\"d\",last=False)\n",
    "print(ordered_d)"
   ]
  },
  {
   "cell_type": "code",
   "execution_count": 8,
   "id": "ccf5b640",
   "metadata": {},
   "outputs": [
    {
     "data": {
      "text/plain": [
       "'The Order of Character is correct'"
      ]
     },
     "execution_count": 8,
     "metadata": {},
     "output_type": "execute_result"
    }
   ],
   "source": [
    "#6. Write a Python program to check order of character in string using OrderedDict()?\n",
    "from collections import OrderedDict\n",
    "def check_order(string,pattern):\n",
    "    order_d =OrderedDict.fromkeys(string)\n",
    "    l=0\n",
    "    for k in order_d.keys():\n",
    "        if (k==pattern[l]):\n",
    "            l+=1\n",
    "        if l==len(pattern):\n",
    "            return \"The Order of Character is correct\"\n",
    "    return \"The Order of Character is not correct\"\n",
    "\n",
    "check_order(\"data science\",\"da\")"
   ]
  },
  {
   "cell_type": "code",
   "execution_count": 7,
   "id": "bbb1752b",
   "metadata": {},
   "outputs": [
    {
     "name": "stdout",
     "output_type": "stream",
     "text": [
      "['fifth', 'first', 'fourth', 'second', 'sixth', 'third']\n"
     ]
    }
   ],
   "source": [
    "#7. Write a Python program to sort Python Dictionaries by Key or Value?\n",
    "d={\"first\":[1,5,9,6],\"second\":{8,9,4,5,6},\"third\":9,\"fourth\":(3,4,5,1),\"fifth\":3+4j,\"sixth\":\"data\"}\n",
    "l=sorted(d)\n",
    "print(l)"
   ]
  },
  {
   "cell_type": "code",
   "execution_count": null,
   "id": "35d98998",
   "metadata": {},
   "outputs": [],
   "source": []
  }
 ],
 "metadata": {
  "kernelspec": {
   "display_name": "Python 3 (ipykernel)",
   "language": "python",
   "name": "python3"
  },
  "language_info": {
   "codemirror_mode": {
    "name": "ipython",
    "version": 3
   },
   "file_extension": ".py",
   "mimetype": "text/x-python",
   "name": "python",
   "nbconvert_exporter": "python",
   "pygments_lexer": "ipython3",
   "version": "3.10.9"
  }
 },
 "nbformat": 4,
 "nbformat_minor": 5
}
